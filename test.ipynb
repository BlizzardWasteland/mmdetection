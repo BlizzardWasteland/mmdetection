{
 "cells": [
  {
   "cell_type": "markdown",
   "metadata": {},
   "source": [
    "# Offline Process"
   ]
  },
  {
   "cell_type": "code",
   "execution_count": null,
   "metadata": {},
   "outputs": [],
   "source": [
    "import torch\n",
    "import torch.nn as nn\n",
    "\n",
    "PATH=\"/home/wangsiyu/work_dirs/yolox_search_voc07_first15/epoch_300.pth\"\n",
    "model = torch.load(PATH)\n",
    "\n",
    "'''process mask_pre for tast 1'''\n",
    "for k in model['state_dict']:\n",
    "    if 'masks' in k:\n",
    "        temp=torch.zeros(len(model['state_dict'][k][0]),dtype=torch.long)\n",
    "        for i in range(len(model['state_dict'][k][0])):\n",
    "            temp[i]=torch.max(model['state_dict'][k][0][i],temp[i])\n",
    "        model['state_dict'][k.replace('masks','mask_pre')]=[temp]\n",
    "\n",
    "'''process mask_back for tast 1'''\n",
    "for k in model['state_dict']:\n",
    "    if 'mask_pre' in k:\n",
    "        temp=torch.ones(len(model['state_dict'][k]),dtype=torch.long)\n",
    "        for i in range(len(model['state_dict'][k])):\n",
    "            model['state_dict'][k.replace('pre','back')][0][i]=temp[i]-model['state_dict'][k][0][i]\n",
    "\n",
    "torch.save(model,PATH.replace('epoch','after_epoch'))"
   ]
  }
 ],
 "metadata": {
  "kernelspec": {
   "display_name": "Python 3.6.13 ('openmmlab': conda)",
   "language": "python",
   "name": "python3"
  },
  "language_info": {
   "codemirror_mode": {
    "name": "ipython",
    "version": 3
   },
   "file_extension": ".py",
   "mimetype": "text/x-python",
   "name": "python",
   "nbconvert_exporter": "python",
   "pygments_lexer": "ipython3",
   "version": "3.6.13"
  },
  "orig_nbformat": 4,
  "vscode": {
   "interpreter": {
    "hash": "cc58b426ff254618812a5952c340aa4cfa191e4374bd0c6c3c01826b24a159fd"
   }
  }
 },
 "nbformat": 4,
 "nbformat_minor": 2
}
